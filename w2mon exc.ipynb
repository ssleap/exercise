{
 "cells": [
  {
   "cell_type": "markdown",
   "metadata": {},
   "source": [
    "# 전공자반 임원경"
   ]
  },
  {
   "cell_type": "markdown",
   "metadata": {},
   "source": [
    "import sqlite3 as sql"
   ]
  },
  {
   "cell_type": "code",
   "execution_count": 2,
   "metadata": {},
   "outputs": [],
   "source": [
    "con = None"
   ]
  },
  {
   "cell_type": "code",
   "execution_count": 3,
   "metadata": {},
   "outputs": [
    {
     "name": "stdout",
     "output_type": "stream",
     "text": [
      "Error :  no such function: SQLITE_VERSIONS\n"
     ]
    }
   ],
   "source": [
    "try :\n",
    "    con = sql.connect('test.db')\n",
    "    \n",
    "    cur = con.cursor()\n",
    "    \n",
    "    cur.execute('SELECT SQLITE_VERSIONS()')\n",
    "    \n",
    "    data = cur.fetchone()\n",
    "    print('SQLite version : ', data)\n",
    "    \n",
    "except Exception as e:\n",
    "    print('Error : ',e)\n",
    "    \n",
    "finally :\n",
    "    if con :\n",
    "        con.close()"
   ]
  },
  {
   "cell_type": "code",
   "execution_count": 7,
   "metadata": {},
   "outputs": [],
   "source": [
    "CARS = [\n",
    "    (1, 'AUDI', 52642),\n",
    "    (2, 'MERCEDES', 57127),\n",
    "    (3, 'SKODA', 9000),\n",
    "    (4, 'Hyundai', 23987492),\n",
    "    (5, 'toyota', 74645),\n",
    "    (6, 'kia', 94638\n",
    "    \n",
    "    )\n",
    "]\n",
    "\n",
    "con = sql.connect('test.db')\n",
    "with con:\n",
    "    cur = con.cursor()\n",
    "    cur.execute(\"DROP TABLE IF EXISTS CARS\")\n",
    "    cur.execute('CREATE TABLE CARS(ID INT PRIMARY KEY, NAME TEXT, PRICE INT)')\n",
    "    cur.executemany('INSERT INTO CARS VALUES(?, ?, ?)',CARS)"
   ]
  },
  {
   "cell_type": "code",
   "execution_count": 8,
   "metadata": {},
   "outputs": [
    {
     "name": "stdout",
     "output_type": "stream",
     "text": [
      "1 AUDI 52642\n",
      "2 MERCEDES 57127\n",
      "3 SKODA 9000\n",
      "4 Hyundai 23987492\n",
      "5 toyota 74645\n",
      "6 kia 94638\n"
     ]
    }
   ],
   "source": [
    "con = sql.connect('test.db')\n",
    "\n",
    "with con :\n",
    "    cur = con.cursor()\n",
    "    cur.execute('SELECT * FROM CARS')\n",
    "    \n",
    "    while True :\n",
    "        row = cur.fetchone()\n",
    "        \n",
    "        if row == None :\n",
    "            break\n",
    "        \n",
    "        print(row[0], row[1], row[2])"
   ]
  },
  {
   "cell_type": "code",
   "execution_count": 10,
   "metadata": {},
   "outputs": [
    {
     "name": "stdout",
     "output_type": "stream",
     "text": [
      "1 AUDI 52642\n",
      "2 MERCEDES 57127\n",
      "3 SKODA 9000\n",
      "4 Hyundai 23987492\n",
      "5 toyota 74645\n",
      "6 kia 94638\n"
     ]
    }
   ],
   "source": [
    "with con :\n",
    "    con.row_factory = sql.Row\n",
    "    \n",
    "    cur = con.cursor()\n",
    "    cur.execute('SELECT * FROM CARS')\n",
    "    rows = cur.fetchall()\n",
    "    for row in rows :\n",
    "        print(row['ID'], row['name'], row['price'])"
   ]
  },
  {
   "cell_type": "code",
   "execution_count": 13,
   "metadata": {},
   "outputs": [
    {
     "name": "stdout",
     "output_type": "stream",
     "text": [
      "Number of rows updated : 1\n"
     ]
    }
   ],
   "source": [
    "uId = 1\n",
    "uPrice = 62300\n",
    "\n",
    "con = sql.connect('test.db')\n",
    "\n",
    "with con :\n",
    "    cur = con.cursor()\n",
    "    cur.execute('UPDATE CARS SET PRICE = ? WHERE ID = ?',(uPrice, uId))\n",
    "    print('Number of rows updated :',cur.rowcount)"
   ]
  },
  {
   "cell_type": "code",
   "execution_count": 14,
   "metadata": {},
   "outputs": [
    {
     "data": {
      "text/plain": [
       "<sqlite3.Cursor at 0x1e064150ab0>"
      ]
     },
     "execution_count": 14,
     "metadata": {},
     "output_type": "execute_result"
    }
   ],
   "source": [
    "cur.execute('SELECT * FROM CARS')"
   ]
  },
  {
   "cell_type": "code",
   "execution_count": 15,
   "metadata": {},
   "outputs": [],
   "source": [
    "A = cur.fetchone()"
   ]
  },
  {
   "cell_type": "code",
   "execution_count": 16,
   "metadata": {},
   "outputs": [
    {
     "data": {
      "text/plain": [
       "(1, 'AUDI', 62300)"
      ]
     },
     "execution_count": 16,
     "metadata": {},
     "output_type": "execute_result"
    }
   ],
   "source": [
    "A"
   ]
  },
  {
   "cell_type": "code",
   "execution_count": 17,
   "metadata": {},
   "outputs": [
    {
     "name": "stdout",
     "output_type": "stream",
     "text": [
      "(1, 'AUDI', 62300)\n"
     ]
    }
   ],
   "source": [
    "print(A)"
   ]
  },
  {
   "cell_type": "code",
   "execution_count": 18,
   "metadata": {},
   "outputs": [],
   "source": [
    "a = cur.fetchall()"
   ]
  },
  {
   "cell_type": "code",
   "execution_count": 19,
   "metadata": {},
   "outputs": [
    {
     "data": {
      "text/plain": [
       "[(2, 'MERCEDES', 57127),\n",
       " (3, 'SKODA', 9000),\n",
       " (4, 'Hyundai', 23987492),\n",
       " (5, 'toyota', 74645),\n",
       " (6, 'kia', 94638)]"
      ]
     },
     "execution_count": 19,
     "metadata": {},
     "output_type": "execute_result"
    }
   ],
   "source": [
    "a"
   ]
  },
  {
   "cell_type": "markdown",
   "metadata": {},
   "source": [
    "### python 연습문제"
   ]
  },
  {
   "cell_type": "markdown",
   "metadata": {},
   "source": [
    "### 129"
   ]
  },
  {
   "cell_type": "code",
   "execution_count": 34,
   "metadata": {},
   "outputs": [
    {
     "name": "stdout",
     "output_type": "stream",
     "text": [
      "1 0.0\n",
      "2 2.897102897102897\n",
      "3 5.194805194805195\n",
      "4 7.392607392607392\n",
      "5 11.38861138861139\n",
      "6 14.385614385614387\n",
      "7 15.484515484515486\n",
      "8 14.985014985014985\n",
      "9 13.086913086913087\n",
      "10 7.492507492507492\n",
      "11 4.9950049950049955\n",
      "12 2.5974025974025974\n"
     ]
    }
   ],
   "source": [
    "import random\n",
    "l = [0 for i in range(13)]\n",
    "\n",
    "def sim():\n",
    "    t = l\n",
    "    a = random.randrange(1,7)\n",
    "    b = random.randrange(1,7)\n",
    "    t[a+b] += 1\n",
    "    return t\n",
    "\n",
    "for i in range(1000):\n",
    "    l = sim()\n",
    "\n",
    "for i in range(1, 13):\n",
    "    print(i, l[i]/1001 * 100 )\n",
    "    \n",
    "    \n",
    "    \n"
   ]
  },
  {
   "cell_type": "markdown",
   "metadata": {},
   "source": [
    "### 130"
   ]
  },
  {
   "cell_type": "code",
   "execution_count": 35,
   "metadata": {},
   "outputs": [
    {
     "name": "stdout",
     "output_type": "stream",
     "text": [
      "HELLO, WORLD!\n",
      "4433555555666110966677755531111"
     ]
    }
   ],
   "source": [
    "dict = {1 : '.,?!:', 2: 'ABC',3 : 'DEF', 4: 'GHI', 5 : 'JKL', 6:'MNO', 7 : 'PQRS', 8 : 'TUV', 9 : 'WXYZ', 0 : ' ' }\n",
    "a = input()\n",
    "for i in a :\n",
    "    for j in dict :\n",
    "        if i in dict[j] :\n",
    "            for k in range(len(dict[j])) :\n",
    "                if dict[j][k] == i:\n",
    "                    for t in range(k+1):\n",
    "                        print(j, end = '')\n",
    "                    "
   ]
  },
  {
   "cell_type": "markdown",
   "metadata": {},
   "source": [
    "### 131"
   ]
  },
  {
   "cell_type": "code",
   "execution_count": 38,
   "metadata": {},
   "outputs": [
    {
     "name": "stdout",
     "output_type": "stream",
     "text": [
      "BABCDEFII\n",
      "-....--...-.-.-.....-....."
     ]
    }
   ],
   "source": [
    "dic = {'A' : '.-', 'B' : '-...', 'C': '-.-.', 'D' : '-..','E' : '.','F':'..-.','G' : '- -.','H' : '....', 'I' : '..'}\n",
    "a = input()\n",
    "for i in a :\n",
    "    print(dic[i],end = '')"
   ]
  },
  {
   "cell_type": "markdown",
   "metadata": {},
   "source": [
    "### 132"
   ]
  },
  {
   "cell_type": "code",
   "execution_count": 39,
   "metadata": {},
   "outputs": [],
   "source": [
    "dic = {'A' : 'kakaka', 'B' : 'titititi', 'C' : 'bebebe', 'E' : 'sfsafsf', 'G' : 'Quebec', 'H' : 'Quebec', 'J' : 'Quebec' , 'K': 'Ontario','L' : 'Ontario', 'M':'Ontario','N':'Ontario', 'P': 'Ontario', 'R' : 'Manitoba', 'S' : 'wrqw', 'T' : 'vjosdfo', 'V': 'QWERQC', 'X' : 'osdjflja or lslqpwjlf', 'Y' : 'yukon'}"
   ]
  },
  {
   "cell_type": "code",
   "execution_count": 40,
   "metadata": {},
   "outputs": [
    {
     "name": "stdout",
     "output_type": "stream",
     "text": [
      "X0A 1B2\n",
      "urban osdjflja or lslqpwjlf\n"
     ]
    }
   ],
   "source": [
    "a = input()\n",
    "if a[1] == '0' :\n",
    "    print('urban', dic[a[0]])\n",
    "else :\n",
    "    print('rural', dic[a[1]])"
   ]
  },
  {
   "cell_type": "code",
   "execution_count": null,
   "metadata": {},
   "outputs": [],
   "source": []
  }
 ],
 "metadata": {
  "kernelspec": {
   "display_name": "Python 3",
   "language": "python",
   "name": "python3"
  },
  "language_info": {
   "codemirror_mode": {
    "name": "ipython",
    "version": 3
   },
   "file_extension": ".py",
   "mimetype": "text/x-python",
   "name": "python",
   "nbconvert_exporter": "python",
   "pygments_lexer": "ipython3",
   "version": "3.6.5"
  }
 },
 "nbformat": 4,
 "nbformat_minor": 2
}
