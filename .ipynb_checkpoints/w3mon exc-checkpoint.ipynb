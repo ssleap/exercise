{
 "cells": [
  {
   "cell_type": "code",
   "execution_count": 11,
   "metadata": {},
   "outputs": [],
   "source": [
    "import requests"
   ]
  },
  {
   "cell_type": "code",
   "execution_count": 12,
   "metadata": {},
   "outputs": [],
   "source": [
    "import lxml"
   ]
  },
  {
   "cell_type": "code",
   "execution_count": 13,
   "metadata": {},
   "outputs": [],
   "source": [
    "from bs4 import BeautifulSoup as bs"
   ]
  },
  {
   "cell_type": "code",
   "execution_count": 18,
   "metadata": {},
   "outputs": [],
   "source": [
    "html = requests.get('https://www.pythonscraping.com/pages/')\n",
    "doc = bs(html.text, 'lxml')"
   ]
  },
  {
   "cell_type": "code",
   "execution_count": 28,
   "metadata": {},
   "outputs": [],
   "source": [
    "div = doc.find('div', id = 'wrap')"
   ]
  },
  {
   "cell_type": "code",
   "execution_count": 29,
   "metadata": {},
   "outputs": [
    {
     "name": "stdout",
     "output_type": "stream",
     "text": [
      "\n",
      "\n",
      "\n",
      "\n",
      "\n",
      "\n",
      "\n",
      "\n",
      "\n",
      "\n",
      "\n",
      "Web Scraping with Python\n",
      "\n",
      "\n",
      "\n",
      "\n",
      "\n",
      "\n",
      "\n",
      "\n",
      "\n",
      "\n",
      "\n",
      "\n",
      "\n",
      "\n",
      "\n",
      "\n",
      "Buy WSwP Directly from O'Reilly:\n",
      "\n",
      " \n",
      "\n",
      "\n",
      "\n",
      "\n",
      "\n",
      "\n",
      "                  Page not found                \n",
      "\n",
      "\n",
      "\n",
      "\n",
      "\n",
      "    The requested page \"/pages/\" could not be found.  \n",
      "\n",
      "\n",
      "\n",
      "\n",
      "\n",
      "\n",
      "\n",
      "\n",
      "\n",
      "\n",
      "\n",
      "\n",
      "\n",
      "\n",
      "\n",
      "\n",
      "\n",
      "\n",
      "                2018                                 Web Scraping with Python\n",
      "                                © Ryan Mitchell, All Rights Reserved. For questions about reproduction or use of any material on this site, please contact ryan.e.mitchell@gmail.com\n",
      "                \n",
      "\n",
      "\n",
      "\n",
      "\n"
     ]
    }
   ],
   "source": [
    "print(div.get_text())"
   ]
  },
  {
   "cell_type": "code",
   "execution_count": 30,
   "metadata": {},
   "outputs": [
    {
     "data": {
      "text/plain": [
       "['html PUBLIC \"-//W3C//DTD XHTML+RDFa 1.0//EN\" \"http://www.w3.org/MarkUp/DTD/xhtml-rdfa-1.dtd\"',\n",
       " <html dir=\"ltr\" version=\"XHTML+RDFa 1.0\" xml:lang=\"en\" xmlns=\"http://www.w3.org/1999/xhtml\" xmlns:content=\"http://purl.org/rss/1.0/modules/content/\" xmlns:dc=\"http://purl.org/dc/terms/\" xmlns:foaf=\"http://xmlns.com/foaf/0.1/\" xmlns:og=\"http://ogp.me/ns#\" xmlns:rdfs=\"http://www.w3.org/2000/01/rdf-schema#\" xmlns:sioc=\"http://rdfs.org/sioc/ns#\" xmlns:sioct=\"http://rdfs.org/sioc/types#\" xmlns:skos=\"http://www.w3.org/2004/02/skos/core#\" xmlns:xsd=\"http://www.w3.org/2001/XMLSchema#\">\n",
       " <head profile=\"http://www.w3.org/1999/xhtml/vocab\">\n",
       " <meta charset=\"utf-8\"/>\n",
       " <link href=\"https://www.pythonscraping.com/misc/favicon.ico\" rel=\"shortcut icon\" type=\"image/vnd.microsoft.icon\"/>\n",
       " <meta content=\"width=device-width, initial-scale=1\" name=\"viewport\"/>\n",
       " <meta content=\"width\" name=\"MobileOptimized\"/>\n",
       " <meta content=\"Drupal 7 (http://drupal.org)\" name=\"Generator\"/>\n",
       " <meta content=\"true\" name=\"HandheldFriendly\"/>\n",
       " <title>Page not found | Web Scraping with Python</title>\n",
       " <style media=\"all\" type=\"text/css\">\n",
       " @import url(\"https://www.pythonscraping.com/modules/system/system.base.css?pa2nir\");\n",
       " @import url(\"https://www.pythonscraping.com/modules/system/system.menus.css?pa2nir\");\n",
       " @import url(\"https://www.pythonscraping.com/modules/system/system.messages.css?pa2nir\");\n",
       " @import url(\"https://www.pythonscraping.com/modules/system/system.theme.css?pa2nir\");\n",
       " </style>\n",
       " <style media=\"all\" type=\"text/css\">\n",
       " @import url(\"https://www.pythonscraping.com/modules/comment/comment.css?pa2nir\");\n",
       " @import url(\"https://www.pythonscraping.com/modules/field/theme/field.css?pa2nir\");\n",
       " @import url(\"https://www.pythonscraping.com/modules/node/node.css?pa2nir\");\n",
       " @import url(\"https://www.pythonscraping.com/modules/search/search.css?pa2nir\");\n",
       " @import url(\"https://www.pythonscraping.com/modules/user/user.css?pa2nir\");\n",
       " @import url(\"https://www.pythonscraping.com/sites/all/modules/views/css/views.css?pa2nir\");\n",
       " @import url(\"https://www.pythonscraping.com/sites/all/modules/ckeditor/css/ckeditor.css?pa2nir\");\n",
       " </style>\n",
       " <style media=\"all\" type=\"text/css\">\n",
       " @import url(\"https://www.pythonscraping.com/sites/all/modules/ctools/css/ctools.css?pa2nir\");\n",
       " </style>\n",
       " <style media=\"all\" type=\"text/css\">\n",
       " @import url(\"https://www.pythonscraping.com/sites/all/themes/skeletontheme/css/skeleton.css?pa2nir\");\n",
       " @import url(\"https://www.pythonscraping.com/sites/all/themes/skeletontheme/css/style.css?pa2nir\");\n",
       " @import url(\"https://www.pythonscraping.com/sites/all/themes/skeletontheme/css/buttons.css?pa2nir\");\n",
       " @import url(\"https://www.pythonscraping.com/sites/all/themes/skeletontheme/css/layout.css?pa2nir\");\n",
       " @import url(\"https://www.pythonscraping.com/sites/all/themes/skeletontheme/color/colors.css?pa2nir\");\n",
       " </style>\n",
       " <script src=\"https://www.pythonscraping.com/misc/jquery.js?v=1.4.4\" type=\"text/javascript\"></script>\n",
       " <script src=\"https://www.pythonscraping.com/misc/jquery.once.js?v=1.2\" type=\"text/javascript\"></script>\n",
       " <script src=\"https://www.pythonscraping.com/misc/drupal.js?pa2nir\" type=\"text/javascript\"></script>\n",
       " <script src=\"https://www.pythonscraping.com/sites/all/themes/skeletontheme/js/jquery.mobilemenu.js?pa2nir\" type=\"text/javascript\"></script>\n",
       " <script type=\"text/javascript\">\n",
       " <!--//--><![CDATA[//><!--\n",
       " jQuery(document).ready(function($) { \n",
       " \t\n",
       " \t$(\"#navigation .content > ul\").mobileMenu({\n",
       " \t\tprependTo: \"#navigation\",\n",
       " \t\tcombine: false,\n",
       "         switchWidth: 760,\n",
       "         topOptionText: Drupal.settings.skeletontheme['topoptiontext']\n",
       " \t});\n",
       " \t\n",
       " \t});\n",
       " //--><!]]>\n",
       " </script>\n",
       " <script src=\"https://www.pythonscraping.com/sites/all/modules/google_analytics/googleanalytics.js?pa2nir\" type=\"text/javascript\"></script>\n",
       " <script type=\"text/javascript\">\n",
       " <!--//--><![CDATA[//><!--\n",
       " (function(i,s,o,g,r,a,m){i[\"GoogleAnalyticsObject\"]=r;i[r]=i[r]||function(){(i[r].q=i[r].q||[]).push(arguments)},i[r].l=1*new Date();a=s.createElement(o),m=s.getElementsByTagName(o)[0];a.async=1;a.src=g;m.parentNode.insertBefore(a,m)})(window,document,\"script\",\"https://www.google-analytics.com/analytics.js\",\"ga\");ga(\"create\", \"UA-57871098-1\", {\"cookieDomain\":\"auto\"});ga(\"set\", \"anonymizeIp\", true);ga(\"set\", \"page\", \"/404.html?page=\" + document.location.pathname + document.location.search + \"&from=\" + document.referrer);ga(\"send\", \"pageview\");\n",
       " //--><!]]>\n",
       " </script>\n",
       " <script type=\"text/javascript\">\n",
       " <!--//--><![CDATA[//><!--\n",
       " jQuery.extend(Drupal.settings, {\"basePath\":\"\\/\",\"pathPrefix\":\"\",\"skeletontheme\":{\"topoptiontext\":\"Select a page\"},\"ajaxPageState\":{\"theme\":\"skeletontheme\",\"theme_token\":\"GJDGrixlQwZshFCvG7TMkXk_usUzu-_NQTOmMf748_k\",\"js\":{\"misc\\/jquery.js\":1,\"misc\\/jquery.once.js\":1,\"misc\\/drupal.js\":1,\"sites\\/all\\/themes\\/skeletontheme\\/js\\/jquery.mobilemenu.js\":1,\"0\":1,\"sites\\/all\\/modules\\/google_analytics\\/googleanalytics.js\":1,\"1\":1},\"css\":{\"modules\\/system\\/system.base.css\":1,\"modules\\/system\\/system.menus.css\":1,\"modules\\/system\\/system.messages.css\":1,\"modules\\/system\\/system.theme.css\":1,\"modules\\/comment\\/comment.css\":1,\"modules\\/field\\/theme\\/field.css\":1,\"modules\\/node\\/node.css\":1,\"modules\\/search\\/search.css\":1,\"modules\\/user\\/user.css\":1,\"sites\\/all\\/modules\\/views\\/css\\/views.css\":1,\"sites\\/all\\/modules\\/ckeditor\\/css\\/ckeditor.css\":1,\"sites\\/all\\/modules\\/ctools\\/css\\/ctools.css\":1,\"sites\\/all\\/themes\\/skeletontheme\\/css\\/skeleton.css\":1,\"sites\\/all\\/themes\\/skeletontheme\\/css\\/style.css\":1,\"sites\\/all\\/themes\\/skeletontheme\\/css\\/buttons.css\":1,\"sites\\/all\\/themes\\/skeletontheme\\/css\\/layout.css\":1,\"sites\\/all\\/themes\\/skeletontheme\\/color\\/colors.css\":1}},\"googleanalytics\":{\"trackOutbound\":1,\"trackMailto\":1,\"trackDownload\":1,\"trackDownloadExtensions\":\"7z|aac|arc|arj|asf|asx|avi|bin|csv|doc(x|m)?|dot(x|m)?|exe|flv|gif|gz|gzip|hqx|jar|jpe?g|js|mp(2|3|4|e?g)|mov(ie)?|msi|msp|pdf|phps|png|ppt(x|m)?|pot(x|m)?|pps(x|m)?|ppam|sld(x|m)?|thmx|qtm?|ra(m|r)?|sea|sit|tar|tgz|torrent|txt|wav|wma|wmv|wpd|xls(x|m|b)?|xlt(x|m)|xlam|xml|z|zip\"}});\n",
       " //--><!]]>\n",
       " </script>\n",
       " </head>\n",
       " <body class=\"html not-front not-logged-in one-sidebar sidebar-first page-pages\">\n",
       " <div id=\"skip-link\">\n",
       " <a class=\"element-invisible element-focusable\" href=\"#main-content\">Skip to main content</a>\n",
       " </div>\n",
       " <div id=\"wrap\">\n",
       " <div class=\"container\">\n",
       " <div class=\"clear\"></div>\n",
       " <!-- #header -->\n",
       " <div class=\"sixteen columns clearfix\" id=\"header\">\n",
       " <div class=\"inner\">\n",
       " <a href=\"/\" id=\"logo\" rel=\"home\" title=\"Home\">\n",
       " <img alt=\"Home\" src=\"https://www.pythonscraping.com/sites/default/files/lrg_0.jpg\"/>\n",
       " </a>\n",
       " <div id=\"name-and-slogan\">\n",
       " <div id=\"site-name\">\n",
       " <a href=\"/\" rel=\"home\" title=\"Home\">Web Scraping with Python</a>\n",
       " </div>\n",
       " </div>\n",
       " </div>\n",
       " </div><!-- /#header -->\n",
       " <div class=\"clear\"></div>\n",
       " <!-- #navigation -->\n",
       " <div class=\"sixteen columns clearfix\" id=\"navigation\">\n",
       " <div class=\"menu-header\">\n",
       " <div class=\"content\">\n",
       " </div>\n",
       " </div>\n",
       " </div><!-- /#navigation -->\n",
       " <!-- #sidebar-first -->\n",
       " <div class=\"five columns\" id=\"sidebar-first\">\n",
       " <div class=\"region region-sidebar-first\">\n",
       " <div class=\"block block-block\" id=\"block-block-1\">\n",
       " <h2>Buy WSwP Directly from O'Reilly:</h2>\n",
       " <div class=\"content\">\n",
       " <iframe frameborder=\"0\" height=\"500px\" scrolling=\"no\" src=\"http://www.oreilly.com/authors/widgets/669.html\" width=\"200px\"></iframe> </div>\n",
       " </div>\n",
       " </div>\n",
       " </div><!-- /#sidebar-first -->\n",
       " <div class=\"eleven columns\" id=\"content\">\n",
       " <div id=\"main\">\n",
       " <h1 class=\"title\" id=\"page-title\">\n",
       "                   Page not found                </h1>\n",
       " <div class=\"tabs\">\n",
       " </div>\n",
       " <div class=\"region region-content\">\n",
       " <div class=\"block block-system\" id=\"block-system-main\">\n",
       " <div class=\"content\">\n",
       "     The requested page \"/pages/\" could not be found.  </div>\n",
       " </div>\n",
       " </div>\n",
       " </div>\n",
       " </div><!-- /#content -->\n",
       " <div class=\"clear\"></div>\n",
       " </div>\n",
       " <div id=\"footer\">\n",
       " <div class=\"container\">\n",
       " <div class=\"sixteen columns clearfix\">\n",
       " <div class=\"one_third\">\n",
       " </div>\n",
       " <div class=\"one_third\">\n",
       " </div>\n",
       " <div class=\"one_third last\">\n",
       " </div>\n",
       " <div class=\"clear\"></div>\n",
       " <div class=\"clear\"></div>\n",
       " <div id=\"credits\">\n",
       "                 2018                                 Web Scraping with Python<br/>\n",
       "                                 © Ryan Mitchell, All Rights Reserved. For questions about reproduction or use of any material on this site, please contact ryan.e.mitchell@gmail.com\n",
       "                 </div>\n",
       " </div>\n",
       " </div>\n",
       " </div>\n",
       " </div> <!-- /#wrap --> </body>\n",
       " </html>,\n",
       " '\\n']"
      ]
     },
     "execution_count": 30,
     "metadata": {},
     "output_type": "execute_result"
    }
   ],
   "source": [
    "doc.contents"
   ]
  },
  {
   "cell_type": "code",
   "execution_count": 32,
   "metadata": {},
   "outputs": [],
   "source": [
    "div= doc.find_all('div', id = 'wrap')"
   ]
  },
  {
   "cell_type": "code",
   "execution_count": 33,
   "metadata": {
    "scrolled": true
   },
   "outputs": [
    {
     "data": {
      "text/plain": [
       "[<div id=\"wrap\">\n",
       " <div class=\"container\">\n",
       " <div class=\"clear\"></div>\n",
       " <!-- #header -->\n",
       " <div class=\"sixteen columns clearfix\" id=\"header\">\n",
       " <div class=\"inner\">\n",
       " <a href=\"/\" id=\"logo\" rel=\"home\" title=\"Home\">\n",
       " <img alt=\"Home\" src=\"https://www.pythonscraping.com/sites/default/files/lrg_0.jpg\"/>\n",
       " </a>\n",
       " <div id=\"name-and-slogan\">\n",
       " <div id=\"site-name\">\n",
       " <a href=\"/\" rel=\"home\" title=\"Home\">Web Scraping with Python</a>\n",
       " </div>\n",
       " </div>\n",
       " </div>\n",
       " </div><!-- /#header -->\n",
       " <div class=\"clear\"></div>\n",
       " <!-- #navigation -->\n",
       " <div class=\"sixteen columns clearfix\" id=\"navigation\">\n",
       " <div class=\"menu-header\">\n",
       " <div class=\"content\">\n",
       " </div>\n",
       " </div>\n",
       " </div><!-- /#navigation -->\n",
       " <!-- #sidebar-first -->\n",
       " <div class=\"five columns\" id=\"sidebar-first\">\n",
       " <div class=\"region region-sidebar-first\">\n",
       " <div class=\"block block-block\" id=\"block-block-1\">\n",
       " <h2>Buy WSwP Directly from O'Reilly:</h2>\n",
       " <div class=\"content\">\n",
       " <iframe frameborder=\"0\" height=\"500px\" scrolling=\"no\" src=\"http://www.oreilly.com/authors/widgets/669.html\" width=\"200px\"></iframe> </div>\n",
       " </div>\n",
       " </div>\n",
       " </div><!-- /#sidebar-first -->\n",
       " <div class=\"eleven columns\" id=\"content\">\n",
       " <div id=\"main\">\n",
       " <h1 class=\"title\" id=\"page-title\">\n",
       "                   Page not found                </h1>\n",
       " <div class=\"tabs\">\n",
       " </div>\n",
       " <div class=\"region region-content\">\n",
       " <div class=\"block block-system\" id=\"block-system-main\">\n",
       " <div class=\"content\">\n",
       "     The requested page \"/pages/\" could not be found.  </div>\n",
       " </div>\n",
       " </div>\n",
       " </div>\n",
       " </div><!-- /#content -->\n",
       " <div class=\"clear\"></div>\n",
       " </div>\n",
       " <div id=\"footer\">\n",
       " <div class=\"container\">\n",
       " <div class=\"sixteen columns clearfix\">\n",
       " <div class=\"one_third\">\n",
       " </div>\n",
       " <div class=\"one_third\">\n",
       " </div>\n",
       " <div class=\"one_third last\">\n",
       " </div>\n",
       " <div class=\"clear\"></div>\n",
       " <div class=\"clear\"></div>\n",
       " <div id=\"credits\">\n",
       "                 2018                                 Web Scraping with Python<br/>\n",
       "                                 © Ryan Mitchell, All Rights Reserved. For questions about reproduction or use of any material on this site, please contact ryan.e.mitchell@gmail.com\n",
       "                 </div>\n",
       " </div>\n",
       " </div>\n",
       " </div>\n",
       " </div>]"
      ]
     },
     "execution_count": 33,
     "metadata": {},
     "output_type": "execute_result"
    }
   ],
   "source": [
    "div"
   ]
  },
  {
   "cell_type": "code",
   "execution_count": 43,
   "metadata": {},
   "outputs": [],
   "source": [
    "tagList = doc.find_all('div', class_ = 'container')"
   ]
  },
  {
   "cell_type": "code",
   "execution_count": 37,
   "metadata": {
    "scrolled": true
   },
   "outputs": [
    {
     "data": {
      "text/plain": [
       "[<div class=\"container\">\n",
       " <div class=\"clear\"></div>\n",
       " <!-- #header -->\n",
       " <div class=\"sixteen columns clearfix\" id=\"header\">\n",
       " <div class=\"inner\">\n",
       " <a href=\"/\" id=\"logo\" rel=\"home\" title=\"Home\">\n",
       " <img alt=\"Home\" src=\"https://www.pythonscraping.com/sites/default/files/lrg_0.jpg\"/>\n",
       " </a>\n",
       " <div id=\"name-and-slogan\">\n",
       " <div id=\"site-name\">\n",
       " <a href=\"/\" rel=\"home\" title=\"Home\">Web Scraping with Python</a>\n",
       " </div>\n",
       " </div>\n",
       " </div>\n",
       " </div><!-- /#header -->\n",
       " <div class=\"clear\"></div>\n",
       " <!-- #navigation -->\n",
       " <div class=\"sixteen columns clearfix\" id=\"navigation\">\n",
       " <div class=\"menu-header\">\n",
       " <div class=\"content\">\n",
       " </div>\n",
       " </div>\n",
       " </div><!-- /#navigation -->\n",
       " <!-- #sidebar-first -->\n",
       " <div class=\"five columns\" id=\"sidebar-first\">\n",
       " <div class=\"region region-sidebar-first\">\n",
       " <div class=\"block block-block\" id=\"block-block-1\">\n",
       " <h2>Buy WSwP Directly from O'Reilly:</h2>\n",
       " <div class=\"content\">\n",
       " <iframe frameborder=\"0\" height=\"500px\" scrolling=\"no\" src=\"http://www.oreilly.com/authors/widgets/669.html\" width=\"200px\"></iframe> </div>\n",
       " </div>\n",
       " </div>\n",
       " </div><!-- /#sidebar-first -->\n",
       " <div class=\"eleven columns\" id=\"content\">\n",
       " <div id=\"main\">\n",
       " <h1 class=\"title\" id=\"page-title\">\n",
       "                   Page not found                </h1>\n",
       " <div class=\"tabs\">\n",
       " </div>\n",
       " <div class=\"region region-content\">\n",
       " <div class=\"block block-system\" id=\"block-system-main\">\n",
       " <div class=\"content\">\n",
       "     The requested page \"/pages/\" could not be found.  </div>\n",
       " </div>\n",
       " </div>\n",
       " </div>\n",
       " </div><!-- /#content -->\n",
       " <div class=\"clear\"></div>\n",
       " </div>, <div class=\"container\">\n",
       " <div class=\"sixteen columns clearfix\">\n",
       " <div class=\"one_third\">\n",
       " </div>\n",
       " <div class=\"one_third\">\n",
       " </div>\n",
       " <div class=\"one_third last\">\n",
       " </div>\n",
       " <div class=\"clear\"></div>\n",
       " <div class=\"clear\"></div>\n",
       " <div id=\"credits\">\n",
       "                 2018                                 Web Scraping with Python<br/>\n",
       "                                 © Ryan Mitchell, All Rights Reserved. For questions about reproduction or use of any material on this site, please contact ryan.e.mitchell@gmail.com\n",
       "                 </div>\n",
       " </div>\n",
       " </div>]"
      ]
     },
     "execution_count": 37,
     "metadata": {},
     "output_type": "execute_result"
    }
   ],
   "source": [
    "tagList"
   ]
  },
  {
   "cell_type": "code",
   "execution_count": 38,
   "metadata": {
    "scrolled": true
   },
   "outputs": [
    {
     "name": "stdout",
     "output_type": "stream",
     "text": [
      "\n",
      "\n",
      "\n",
      "\n",
      "\n",
      "\n",
      "\n",
      "\n",
      "\n",
      "\n",
      "Web Scraping with Python\n",
      "\n",
      "\n",
      "\n",
      "\n",
      "\n",
      "\n",
      "\n",
      "\n",
      "\n",
      "\n",
      "\n",
      "\n",
      "\n",
      "\n",
      "\n",
      "\n",
      "Buy WSwP Directly from O'Reilly:\n",
      "\n",
      " \n",
      "\n",
      "\n",
      "\n",
      "\n",
      "\n",
      "\n",
      "                  Page not found                \n",
      "\n",
      "\n",
      "\n",
      "\n",
      "\n",
      "    The requested page \"/pages/\" could not be found.  \n",
      "\n",
      "\n",
      "\n",
      "\n",
      "\n",
      "\n",
      "\n",
      "\n",
      "\n",
      "\n",
      "\n",
      "\n",
      "\n",
      "\n",
      "\n",
      "\n",
      "\n",
      "                2018                                 Web Scraping with Python\n",
      "                                © Ryan Mitchell, All Rights Reserved. For questions about reproduction or use of any material on this site, please contact ryan.e.mitchell@gmail.com\n",
      "                \n",
      "\n",
      "\n"
     ]
    }
   ],
   "source": [
    "for tag in tagList :\n",
    "    print(tag.get_text())"
   ]
  },
  {
   "cell_type": "code",
   "execution_count": 55,
   "metadata": {},
   "outputs": [],
   "source": [
    "tagList = doc.find('div', {'class' : 'clear'})"
   ]
  },
  {
   "cell_type": "code",
   "execution_count": 56,
   "metadata": {},
   "outputs": [
    {
     "data": {
      "text/plain": [
       "<div class=\"clear\"></div>"
      ]
     },
     "execution_count": 56,
     "metadata": {},
     "output_type": "execute_result"
    }
   ],
   "source": [
    "tagList"
   ]
  },
  {
   "cell_type": "code",
   "execution_count": 57,
   "metadata": {
    "scrolled": true
   },
   "outputs": [
    {
     "data": {
      "text/plain": [
       "<div class=\"clear\"></div>"
      ]
     },
     "execution_count": 57,
     "metadata": {},
     "output_type": "execute_result"
    }
   ],
   "source": [
    "tagList"
   ]
  },
  {
   "cell_type": "code",
   "execution_count": 58,
   "metadata": {},
   "outputs": [],
   "source": [
    "div1 = doc.div"
   ]
  },
  {
   "cell_type": "code",
   "execution_count": 46,
   "metadata": {},
   "outputs": [
    {
     "data": {
      "text/plain": [
       "bs4.element.Tag"
      ]
     },
     "execution_count": 46,
     "metadata": {},
     "output_type": "execute_result"
    }
   ],
   "source": [
    "type(div1)"
   ]
  },
  {
   "cell_type": "code",
   "execution_count": 47,
   "metadata": {},
   "outputs": [],
   "source": [
    "div2 = doc.find_all('div')"
   ]
  },
  {
   "cell_type": "code",
   "execution_count": 48,
   "metadata": {},
   "outputs": [
    {
     "data": {
      "text/plain": [
       "bs4.element.ResultSet"
      ]
     },
     "execution_count": 48,
     "metadata": {},
     "output_type": "execute_result"
    }
   ],
   "source": [
    "type(div2)"
   ]
  },
  {
   "cell_type": "code",
   "execution_count": 49,
   "metadata": {},
   "outputs": [
    {
     "name": "stdout",
     "output_type": "stream",
     "text": [
      "<class 'bs4.element.Tag'>\n",
      "<class 'bs4.element.Tag'>\n",
      "<class 'bs4.element.Tag'>\n",
      "<class 'bs4.element.Tag'>\n",
      "<class 'bs4.element.Tag'>\n",
      "<class 'bs4.element.Tag'>\n",
      "<class 'bs4.element.Tag'>\n",
      "<class 'bs4.element.Tag'>\n",
      "<class 'bs4.element.Tag'>\n",
      "<class 'bs4.element.Tag'>\n",
      "<class 'bs4.element.Tag'>\n",
      "<class 'bs4.element.Tag'>\n",
      "<class 'bs4.element.Tag'>\n",
      "<class 'bs4.element.Tag'>\n",
      "<class 'bs4.element.Tag'>\n",
      "<class 'bs4.element.Tag'>\n",
      "<class 'bs4.element.Tag'>\n",
      "<class 'bs4.element.Tag'>\n",
      "<class 'bs4.element.Tag'>\n",
      "<class 'bs4.element.Tag'>\n",
      "<class 'bs4.element.Tag'>\n",
      "<class 'bs4.element.Tag'>\n",
      "<class 'bs4.element.Tag'>\n",
      "<class 'bs4.element.Tag'>\n",
      "<class 'bs4.element.Tag'>\n",
      "<class 'bs4.element.Tag'>\n",
      "<class 'bs4.element.Tag'>\n",
      "<class 'bs4.element.Tag'>\n",
      "<class 'bs4.element.Tag'>\n",
      "<class 'bs4.element.Tag'>\n",
      "<class 'bs4.element.Tag'>\n",
      "<class 'bs4.element.Tag'>\n"
     ]
    }
   ],
   "source": [
    "for tag in div2 :\n",
    "    print(type(tag))"
   ]
  },
  {
   "cell_type": "code",
   "execution_count": 50,
   "metadata": {},
   "outputs": [],
   "source": [
    "node = doc.find('div', {'id' : 'footer'})"
   ]
  },
  {
   "cell_type": "code",
   "execution_count": 51,
   "metadata": {},
   "outputs": [],
   "source": [
    "parent = node.find_parent()"
   ]
  },
  {
   "cell_type": "code",
   "execution_count": 52,
   "metadata": {},
   "outputs": [
    {
     "ename": "NameError",
     "evalue": "name 'parane' is not defined",
     "output_type": "error",
     "traceback": [
      "\u001b[1;31m---------------------------------------------------------------------------\u001b[0m",
      "\u001b[1;31mNameError\u001b[0m                                 Traceback (most recent call last)",
      "\u001b[1;32m<ipython-input-52-5d31eee289f5>\u001b[0m in \u001b[0;36m<module>\u001b[1;34m()\u001b[0m\n\u001b[1;32m----> 1\u001b[1;33m \u001b[0mparane\u001b[0m\u001b[1;33m\u001b[0m\u001b[0m\n\u001b[0m",
      "\u001b[1;31mNameError\u001b[0m: name 'parane' is not defined"
     ]
    }
   ],
   "source": [
    "parane"
   ]
  },
  {
   "cell_type": "code",
   "execution_count": 53,
   "metadata": {
    "scrolled": true
   },
   "outputs": [
    {
     "data": {
      "text/plain": [
       "<div id=\"wrap\">\n",
       "<div class=\"container\">\n",
       "<div class=\"clear\"></div>\n",
       "<!-- #header -->\n",
       "<div class=\"sixteen columns clearfix\" id=\"header\">\n",
       "<div class=\"inner\">\n",
       "<a href=\"/\" id=\"logo\" rel=\"home\" title=\"Home\">\n",
       "<img alt=\"Home\" src=\"https://www.pythonscraping.com/sites/default/files/lrg_0.jpg\"/>\n",
       "</a>\n",
       "<div id=\"name-and-slogan\">\n",
       "<div id=\"site-name\">\n",
       "<a href=\"/\" rel=\"home\" title=\"Home\">Web Scraping with Python</a>\n",
       "</div>\n",
       "</div>\n",
       "</div>\n",
       "</div><!-- /#header -->\n",
       "<div class=\"clear\"></div>\n",
       "<!-- #navigation -->\n",
       "<div class=\"sixteen columns clearfix\" id=\"navigation\">\n",
       "<div class=\"menu-header\">\n",
       "<div class=\"content\">\n",
       "</div>\n",
       "</div>\n",
       "</div><!-- /#navigation -->\n",
       "<!-- #sidebar-first -->\n",
       "<div class=\"five columns\" id=\"sidebar-first\">\n",
       "<div class=\"region region-sidebar-first\">\n",
       "<div class=\"block block-block\" id=\"block-block-1\">\n",
       "<h2>Buy WSwP Directly from O'Reilly:</h2>\n",
       "<div class=\"content\">\n",
       "<iframe frameborder=\"0\" height=\"500px\" scrolling=\"no\" src=\"http://www.oreilly.com/authors/widgets/669.html\" width=\"200px\"></iframe> </div>\n",
       "</div>\n",
       "</div>\n",
       "</div><!-- /#sidebar-first -->\n",
       "<div class=\"eleven columns\" id=\"content\">\n",
       "<div id=\"main\">\n",
       "<h1 class=\"title\" id=\"page-title\">\n",
       "                  Page not found                </h1>\n",
       "<div class=\"tabs\">\n",
       "</div>\n",
       "<div class=\"region region-content\">\n",
       "<div class=\"block block-system\" id=\"block-system-main\">\n",
       "<div class=\"content\">\n",
       "    The requested page \"/pages/\" could not be found.  </div>\n",
       "</div>\n",
       "</div>\n",
       "</div>\n",
       "</div><!-- /#content -->\n",
       "<div class=\"clear\"></div>\n",
       "</div>\n",
       "<div id=\"footer\">\n",
       "<div class=\"container\">\n",
       "<div class=\"sixteen columns clearfix\">\n",
       "<div class=\"one_third\">\n",
       "</div>\n",
       "<div class=\"one_third\">\n",
       "</div>\n",
       "<div class=\"one_third last\">\n",
       "</div>\n",
       "<div class=\"clear\"></div>\n",
       "<div class=\"clear\"></div>\n",
       "<div id=\"credits\">\n",
       "                2018                                 Web Scraping with Python<br/>\n",
       "                                © Ryan Mitchell, All Rights Reserved. For questions about reproduction or use of any material on this site, please contact ryan.e.mitchell@gmail.com\n",
       "                </div>\n",
       "</div>\n",
       "</div>\n",
       "</div>\n",
       "</div>"
      ]
     },
     "execution_count": 53,
     "metadata": {},
     "output_type": "execute_result"
    }
   ],
   "source": [
    "parent"
   ]
  },
  {
   "cell_type": "code",
   "execution_count": 59,
   "metadata": {},
   "outputs": [],
   "source": [
    "tagParent = tagList.find_parent()"
   ]
  },
  {
   "cell_type": "code",
   "execution_count": 60,
   "metadata": {
    "scrolled": true
   },
   "outputs": [
    {
     "data": {
      "text/plain": [
       "<div class=\"container\">\n",
       "<div class=\"clear\"></div>\n",
       "<!-- #header -->\n",
       "<div class=\"sixteen columns clearfix\" id=\"header\">\n",
       "<div class=\"inner\">\n",
       "<a href=\"/\" id=\"logo\" rel=\"home\" title=\"Home\">\n",
       "<img alt=\"Home\" src=\"https://www.pythonscraping.com/sites/default/files/lrg_0.jpg\"/>\n",
       "</a>\n",
       "<div id=\"name-and-slogan\">\n",
       "<div id=\"site-name\">\n",
       "<a href=\"/\" rel=\"home\" title=\"Home\">Web Scraping with Python</a>\n",
       "</div>\n",
       "</div>\n",
       "</div>\n",
       "</div><!-- /#header -->\n",
       "<div class=\"clear\"></div>\n",
       "<!-- #navigation -->\n",
       "<div class=\"sixteen columns clearfix\" id=\"navigation\">\n",
       "<div class=\"menu-header\">\n",
       "<div class=\"content\">\n",
       "</div>\n",
       "</div>\n",
       "</div><!-- /#navigation -->\n",
       "<!-- #sidebar-first -->\n",
       "<div class=\"five columns\" id=\"sidebar-first\">\n",
       "<div class=\"region region-sidebar-first\">\n",
       "<div class=\"block block-block\" id=\"block-block-1\">\n",
       "<h2>Buy WSwP Directly from O'Reilly:</h2>\n",
       "<div class=\"content\">\n",
       "<iframe frameborder=\"0\" height=\"500px\" scrolling=\"no\" src=\"http://www.oreilly.com/authors/widgets/669.html\" width=\"200px\"></iframe> </div>\n",
       "</div>\n",
       "</div>\n",
       "</div><!-- /#sidebar-first -->\n",
       "<div class=\"eleven columns\" id=\"content\">\n",
       "<div id=\"main\">\n",
       "<h1 class=\"title\" id=\"page-title\">\n",
       "                  Page not found                </h1>\n",
       "<div class=\"tabs\">\n",
       "</div>\n",
       "<div class=\"region region-content\">\n",
       "<div class=\"block block-system\" id=\"block-system-main\">\n",
       "<div class=\"content\">\n",
       "    The requested page \"/pages/\" could not be found.  </div>\n",
       "</div>\n",
       "</div>\n",
       "</div>\n",
       "</div><!-- /#content -->\n",
       "<div class=\"clear\"></div>\n",
       "</div>"
      ]
     },
     "execution_count": 60,
     "metadata": {},
     "output_type": "execute_result"
    }
   ],
   "source": [
    "tagParent"
   ]
  },
  {
   "cell_type": "code",
   "execution_count": 62,
   "metadata": {},
   "outputs": [],
   "source": [
    "children = tagParent.find_all(recursive = False)"
   ]
  },
  {
   "cell_type": "code",
   "execution_count": 63,
   "metadata": {
    "scrolled": true
   },
   "outputs": [
    {
     "data": {
      "text/plain": [
       "[<div class=\"clear\"></div>, <div class=\"sixteen columns clearfix\" id=\"header\">\n",
       " <div class=\"inner\">\n",
       " <a href=\"/\" id=\"logo\" rel=\"home\" title=\"Home\">\n",
       " <img alt=\"Home\" src=\"https://www.pythonscraping.com/sites/default/files/lrg_0.jpg\"/>\n",
       " </a>\n",
       " <div id=\"name-and-slogan\">\n",
       " <div id=\"site-name\">\n",
       " <a href=\"/\" rel=\"home\" title=\"Home\">Web Scraping with Python</a>\n",
       " </div>\n",
       " </div>\n",
       " </div>\n",
       " </div>, <div class=\"clear\"></div>, <div class=\"sixteen columns clearfix\" id=\"navigation\">\n",
       " <div class=\"menu-header\">\n",
       " <div class=\"content\">\n",
       " </div>\n",
       " </div>\n",
       " </div>, <div class=\"five columns\" id=\"sidebar-first\">\n",
       " <div class=\"region region-sidebar-first\">\n",
       " <div class=\"block block-block\" id=\"block-block-1\">\n",
       " <h2>Buy WSwP Directly from O'Reilly:</h2>\n",
       " <div class=\"content\">\n",
       " <iframe frameborder=\"0\" height=\"500px\" scrolling=\"no\" src=\"http://www.oreilly.com/authors/widgets/669.html\" width=\"200px\"></iframe> </div>\n",
       " </div>\n",
       " </div>\n",
       " </div>, <div class=\"eleven columns\" id=\"content\">\n",
       " <div id=\"main\">\n",
       " <h1 class=\"title\" id=\"page-title\">\n",
       "                   Page not found                </h1>\n",
       " <div class=\"tabs\">\n",
       " </div>\n",
       " <div class=\"region region-content\">\n",
       " <div class=\"block block-system\" id=\"block-system-main\">\n",
       " <div class=\"content\">\n",
       "     The requested page \"/pages/\" could not be found.  </div>\n",
       " </div>\n",
       " </div>\n",
       " </div>\n",
       " </div>, <div class=\"clear\"></div>]"
      ]
     },
     "execution_count": 63,
     "metadata": {},
     "output_type": "execute_result"
    }
   ],
   "source": [
    "children"
   ]
  },
  {
   "cell_type": "code",
   "execution_count": 64,
   "metadata": {},
   "outputs": [],
   "source": [
    "descendants = parent.find_all()"
   ]
  },
  {
   "cell_type": "code",
   "execution_count": 65,
   "metadata": {},
   "outputs": [
    {
     "data": {
      "text/plain": [
       "[<div class=\"container\">\n",
       " <div class=\"clear\"></div>\n",
       " <!-- #header -->\n",
       " <div class=\"sixteen columns clearfix\" id=\"header\">\n",
       " <div class=\"inner\">\n",
       " <a href=\"/\" id=\"logo\" rel=\"home\" title=\"Home\">\n",
       " <img alt=\"Home\" src=\"https://www.pythonscraping.com/sites/default/files/lrg_0.jpg\"/>\n",
       " </a>\n",
       " <div id=\"name-and-slogan\">\n",
       " <div id=\"site-name\">\n",
       " <a href=\"/\" rel=\"home\" title=\"Home\">Web Scraping with Python</a>\n",
       " </div>\n",
       " </div>\n",
       " </div>\n",
       " </div><!-- /#header -->\n",
       " <div class=\"clear\"></div>\n",
       " <!-- #navigation -->\n",
       " <div class=\"sixteen columns clearfix\" id=\"navigation\">\n",
       " <div class=\"menu-header\">\n",
       " <div class=\"content\">\n",
       " </div>\n",
       " </div>\n",
       " </div><!-- /#navigation -->\n",
       " <!-- #sidebar-first -->\n",
       " <div class=\"five columns\" id=\"sidebar-first\">\n",
       " <div class=\"region region-sidebar-first\">\n",
       " <div class=\"block block-block\" id=\"block-block-1\">\n",
       " <h2>Buy WSwP Directly from O'Reilly:</h2>\n",
       " <div class=\"content\">\n",
       " <iframe frameborder=\"0\" height=\"500px\" scrolling=\"no\" src=\"http://www.oreilly.com/authors/widgets/669.html\" width=\"200px\"></iframe> </div>\n",
       " </div>\n",
       " </div>\n",
       " </div><!-- /#sidebar-first -->\n",
       " <div class=\"eleven columns\" id=\"content\">\n",
       " <div id=\"main\">\n",
       " <h1 class=\"title\" id=\"page-title\">\n",
       "                   Page not found                </h1>\n",
       " <div class=\"tabs\">\n",
       " </div>\n",
       " <div class=\"region region-content\">\n",
       " <div class=\"block block-system\" id=\"block-system-main\">\n",
       " <div class=\"content\">\n",
       "     The requested page \"/pages/\" could not be found.  </div>\n",
       " </div>\n",
       " </div>\n",
       " </div>\n",
       " </div><!-- /#content -->\n",
       " <div class=\"clear\"></div>\n",
       " </div>,\n",
       " <div class=\"clear\"></div>,\n",
       " <div class=\"sixteen columns clearfix\" id=\"header\">\n",
       " <div class=\"inner\">\n",
       " <a href=\"/\" id=\"logo\" rel=\"home\" title=\"Home\">\n",
       " <img alt=\"Home\" src=\"https://www.pythonscraping.com/sites/default/files/lrg_0.jpg\"/>\n",
       " </a>\n",
       " <div id=\"name-and-slogan\">\n",
       " <div id=\"site-name\">\n",
       " <a href=\"/\" rel=\"home\" title=\"Home\">Web Scraping with Python</a>\n",
       " </div>\n",
       " </div>\n",
       " </div>\n",
       " </div>,\n",
       " <div class=\"inner\">\n",
       " <a href=\"/\" id=\"logo\" rel=\"home\" title=\"Home\">\n",
       " <img alt=\"Home\" src=\"https://www.pythonscraping.com/sites/default/files/lrg_0.jpg\"/>\n",
       " </a>\n",
       " <div id=\"name-and-slogan\">\n",
       " <div id=\"site-name\">\n",
       " <a href=\"/\" rel=\"home\" title=\"Home\">Web Scraping with Python</a>\n",
       " </div>\n",
       " </div>\n",
       " </div>,\n",
       " <a href=\"/\" id=\"logo\" rel=\"home\" title=\"Home\">\n",
       " <img alt=\"Home\" src=\"https://www.pythonscraping.com/sites/default/files/lrg_0.jpg\"/>\n",
       " </a>,\n",
       " <img alt=\"Home\" src=\"https://www.pythonscraping.com/sites/default/files/lrg_0.jpg\"/>,\n",
       " <div id=\"name-and-slogan\">\n",
       " <div id=\"site-name\">\n",
       " <a href=\"/\" rel=\"home\" title=\"Home\">Web Scraping with Python</a>\n",
       " </div>\n",
       " </div>,\n",
       " <div id=\"site-name\">\n",
       " <a href=\"/\" rel=\"home\" title=\"Home\">Web Scraping with Python</a>\n",
       " </div>,\n",
       " <a href=\"/\" rel=\"home\" title=\"Home\">Web Scraping with Python</a>,\n",
       " <div class=\"clear\"></div>,\n",
       " <div class=\"sixteen columns clearfix\" id=\"navigation\">\n",
       " <div class=\"menu-header\">\n",
       " <div class=\"content\">\n",
       " </div>\n",
       " </div>\n",
       " </div>,\n",
       " <div class=\"menu-header\">\n",
       " <div class=\"content\">\n",
       " </div>\n",
       " </div>,\n",
       " <div class=\"content\">\n",
       " </div>,\n",
       " <div class=\"five columns\" id=\"sidebar-first\">\n",
       " <div class=\"region region-sidebar-first\">\n",
       " <div class=\"block block-block\" id=\"block-block-1\">\n",
       " <h2>Buy WSwP Directly from O'Reilly:</h2>\n",
       " <div class=\"content\">\n",
       " <iframe frameborder=\"0\" height=\"500px\" scrolling=\"no\" src=\"http://www.oreilly.com/authors/widgets/669.html\" width=\"200px\"></iframe> </div>\n",
       " </div>\n",
       " </div>\n",
       " </div>,\n",
       " <div class=\"region region-sidebar-first\">\n",
       " <div class=\"block block-block\" id=\"block-block-1\">\n",
       " <h2>Buy WSwP Directly from O'Reilly:</h2>\n",
       " <div class=\"content\">\n",
       " <iframe frameborder=\"0\" height=\"500px\" scrolling=\"no\" src=\"http://www.oreilly.com/authors/widgets/669.html\" width=\"200px\"></iframe> </div>\n",
       " </div>\n",
       " </div>,\n",
       " <div class=\"block block-block\" id=\"block-block-1\">\n",
       " <h2>Buy WSwP Directly from O'Reilly:</h2>\n",
       " <div class=\"content\">\n",
       " <iframe frameborder=\"0\" height=\"500px\" scrolling=\"no\" src=\"http://www.oreilly.com/authors/widgets/669.html\" width=\"200px\"></iframe> </div>\n",
       " </div>,\n",
       " <h2>Buy WSwP Directly from O'Reilly:</h2>,\n",
       " <div class=\"content\">\n",
       " <iframe frameborder=\"0\" height=\"500px\" scrolling=\"no\" src=\"http://www.oreilly.com/authors/widgets/669.html\" width=\"200px\"></iframe> </div>,\n",
       " <iframe frameborder=\"0\" height=\"500px\" scrolling=\"no\" src=\"http://www.oreilly.com/authors/widgets/669.html\" width=\"200px\"></iframe>,\n",
       " <div class=\"eleven columns\" id=\"content\">\n",
       " <div id=\"main\">\n",
       " <h1 class=\"title\" id=\"page-title\">\n",
       "                   Page not found                </h1>\n",
       " <div class=\"tabs\">\n",
       " </div>\n",
       " <div class=\"region region-content\">\n",
       " <div class=\"block block-system\" id=\"block-system-main\">\n",
       " <div class=\"content\">\n",
       "     The requested page \"/pages/\" could not be found.  </div>\n",
       " </div>\n",
       " </div>\n",
       " </div>\n",
       " </div>,\n",
       " <div id=\"main\">\n",
       " <h1 class=\"title\" id=\"page-title\">\n",
       "                   Page not found                </h1>\n",
       " <div class=\"tabs\">\n",
       " </div>\n",
       " <div class=\"region region-content\">\n",
       " <div class=\"block block-system\" id=\"block-system-main\">\n",
       " <div class=\"content\">\n",
       "     The requested page \"/pages/\" could not be found.  </div>\n",
       " </div>\n",
       " </div>\n",
       " </div>,\n",
       " <h1 class=\"title\" id=\"page-title\">\n",
       "                   Page not found                </h1>,\n",
       " <div class=\"tabs\">\n",
       " </div>,\n",
       " <div class=\"region region-content\">\n",
       " <div class=\"block block-system\" id=\"block-system-main\">\n",
       " <div class=\"content\">\n",
       "     The requested page \"/pages/\" could not be found.  </div>\n",
       " </div>\n",
       " </div>,\n",
       " <div class=\"block block-system\" id=\"block-system-main\">\n",
       " <div class=\"content\">\n",
       "     The requested page \"/pages/\" could not be found.  </div>\n",
       " </div>,\n",
       " <div class=\"content\">\n",
       "     The requested page \"/pages/\" could not be found.  </div>,\n",
       " <div class=\"clear\"></div>,\n",
       " <div id=\"footer\">\n",
       " <div class=\"container\">\n",
       " <div class=\"sixteen columns clearfix\">\n",
       " <div class=\"one_third\">\n",
       " </div>\n",
       " <div class=\"one_third\">\n",
       " </div>\n",
       " <div class=\"one_third last\">\n",
       " </div>\n",
       " <div class=\"clear\"></div>\n",
       " <div class=\"clear\"></div>\n",
       " <div id=\"credits\">\n",
       "                 2018                                 Web Scraping with Python<br/>\n",
       "                                 © Ryan Mitchell, All Rights Reserved. For questions about reproduction or use of any material on this site, please contact ryan.e.mitchell@gmail.com\n",
       "                 </div>\n",
       " </div>\n",
       " </div>\n",
       " </div>,\n",
       " <div class=\"container\">\n",
       " <div class=\"sixteen columns clearfix\">\n",
       " <div class=\"one_third\">\n",
       " </div>\n",
       " <div class=\"one_third\">\n",
       " </div>\n",
       " <div class=\"one_third last\">\n",
       " </div>\n",
       " <div class=\"clear\"></div>\n",
       " <div class=\"clear\"></div>\n",
       " <div id=\"credits\">\n",
       "                 2018                                 Web Scraping with Python<br/>\n",
       "                                 © Ryan Mitchell, All Rights Reserved. For questions about reproduction or use of any material on this site, please contact ryan.e.mitchell@gmail.com\n",
       "                 </div>\n",
       " </div>\n",
       " </div>,\n",
       " <div class=\"sixteen columns clearfix\">\n",
       " <div class=\"one_third\">\n",
       " </div>\n",
       " <div class=\"one_third\">\n",
       " </div>\n",
       " <div class=\"one_third last\">\n",
       " </div>\n",
       " <div class=\"clear\"></div>\n",
       " <div class=\"clear\"></div>\n",
       " <div id=\"credits\">\n",
       "                 2018                                 Web Scraping with Python<br/>\n",
       "                                 © Ryan Mitchell, All Rights Reserved. For questions about reproduction or use of any material on this site, please contact ryan.e.mitchell@gmail.com\n",
       "                 </div>\n",
       " </div>,\n",
       " <div class=\"one_third\">\n",
       " </div>,\n",
       " <div class=\"one_third\">\n",
       " </div>,\n",
       " <div class=\"one_third last\">\n",
       " </div>,\n",
       " <div class=\"clear\"></div>,\n",
       " <div class=\"clear\"></div>,\n",
       " <div id=\"credits\">\n",
       "                 2018                                 Web Scraping with Python<br/>\n",
       "                                 © Ryan Mitchell, All Rights Reserved. For questions about reproduction or use of any material on this site, please contact ryan.e.mitchell@gmail.com\n",
       "                 </div>,\n",
       " <br/>]"
      ]
     },
     "execution_count": 65,
     "metadata": {},
     "output_type": "execute_result"
    }
   ],
   "source": [
    "descendants"
   ]
  },
  {
   "cell_type": "code",
   "execution_count": 66,
   "metadata": {},
   "outputs": [],
   "source": [
    "prevsibling = children[1].find_previous_sibling()"
   ]
  },
  {
   "cell_type": "code",
   "execution_count": 67,
   "metadata": {},
   "outputs": [
    {
     "data": {
      "text/plain": [
       "<div class=\"clear\"></div>"
      ]
     },
     "execution_count": 67,
     "metadata": {},
     "output_type": "execute_result"
    }
   ],
   "source": [
    "prevsibling"
   ]
  },
  {
   "cell_type": "code",
   "execution_count": 68,
   "metadata": {},
   "outputs": [],
   "source": [
    "nextsibling = children[1].find_next_sibling()"
   ]
  },
  {
   "cell_type": "code",
   "execution_count": 69,
   "metadata": {},
   "outputs": [
    {
     "data": {
      "text/plain": [
       "<div class=\"clear\"></div>"
      ]
     },
     "execution_count": 69,
     "metadata": {},
     "output_type": "execute_result"
    }
   ],
   "source": [
    "nextsibling"
   ]
  },
  {
   "cell_type": "code",
   "execution_count": null,
   "metadata": {},
   "outputs": [],
   "source": []
  }
 ],
 "metadata": {
  "kernelspec": {
   "display_name": "Python 3",
   "language": "python",
   "name": "python3"
  },
  "language_info": {
   "codemirror_mode": {
    "name": "ipython",
    "version": 3
   },
   "file_extension": ".py",
   "mimetype": "text/x-python",
   "name": "python",
   "nbconvert_exporter": "python",
   "pygments_lexer": "ipython3",
   "version": "3.6.5"
  }
 },
 "nbformat": 4,
 "nbformat_minor": 2
}
