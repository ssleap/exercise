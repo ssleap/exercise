{
 "cells": [
  {
   "cell_type": "markdown",
   "metadata": {},
   "source": [
    "# 전공자반 임원경 (hard)"
   ]
  },
  {
   "cell_type": "markdown",
   "metadata": {},
   "source": [
    "## 89"
   ]
  },
  {
   "cell_type": "code",
   "execution_count": 5,
   "metadata": {},
   "outputs": [
    {
     "name": "stdout",
     "output_type": "stream",
     "text": [
      "i eat some ramyeon. it is so bad. jjj i llll.\n"
     ]
    },
    {
     "data": {
      "text/plain": [
       "'I eat some ramyeon. It is so bad. Jjj I llll. '"
      ]
     },
     "execution_count": 5,
     "metadata": {},
     "output_type": "execute_result"
    }
   ],
   "source": [
    "string = input()\n",
    "string = string.split()\n",
    "last_mark = ['?','.','!']\n",
    "string[0] = string[0].capitalize()\n",
    "for i in range(1, len(string)):\n",
    "    if string[i] == 'i':\n",
    "        string[i] = 'I'\n",
    "    if string[i][-1] in last_mark and i is not len(string) - 1:\n",
    "        string[i+1] = string[i+1].capitalize()\n",
    "\n",
    "res = ''\n",
    "for i in string :\n",
    "    res += i\n",
    "    res += ' '\n",
    "res\n",
    "            \n",
    "        "
   ]
  },
  {
   "cell_type": "code",
   "execution_count": null,
   "metadata": {},
   "outputs": [],
   "source": [
    "a = input()\n",
    "a = a.split()\n",
    "for i in a :\n",
    "    if len(i) is 1:\n",
    "        if int(i) in range(0,10):\n",
    "            print(i,' is integer')\n",
    "    else :\n",
    "        if i[0] == '+' or i[0] == '-':\n",
    "            print(i, 'is integer')\n",
    "        \n",
    "        \n",
    "        "
   ]
  },
  {
   "cell_type": "code",
   "execution_count": null,
   "metadata": {},
   "outputs": [],
   "source": []
  }
 ],
 "metadata": {
  "kernelspec": {
   "display_name": "Python 3",
   "language": "python",
   "name": "python3"
  },
  "language_info": {
   "codemirror_mode": {
    "name": "ipython",
    "version": 3
   },
   "file_extension": ".py",
   "mimetype": "text/x-python",
   "name": "python",
   "nbconvert_exporter": "python",
   "pygments_lexer": "ipython3",
   "version": "3.6.5"
  }
 },
 "nbformat": 4,
 "nbformat_minor": 2
}
